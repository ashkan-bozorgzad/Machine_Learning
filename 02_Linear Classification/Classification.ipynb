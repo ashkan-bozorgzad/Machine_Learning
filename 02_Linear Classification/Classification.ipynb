{
 "cells": [
  {
   "cell_type": "markdown",
   "id": "d87acf10",
   "metadata": {},
   "source": [
    "# Linear models for classification"
   ]
  },
  {
   "cell_type": "code",
   "execution_count": 17,
   "id": "5b00c164",
   "metadata": {},
   "outputs": [],
   "source": [
    "import numpy as np\n",
    "import pandas as pd\n",
    "import matplotlib.pyplot as plt\n",
    "import seaborn as sns\n",
    "import warnings\n",
    "warnings.filterwarnings('ignore')\n",
    "from sklearn.model_selection import train_test_split\n",
    "from sklearn.compose import make_column_transformer\n",
    "from sklearn.preprocessing import StandardScaler\n",
    "from sklearn.pipeline import make_pipeline\n",
    "from sklearn.linear_model import LogisticRegression\n",
    "from sklearn.model_selection import cross_val_score\n",
    "from sklearn.model_selection import GridSearchCV\n",
    "from sklearn.svm import LinearSVC\n",
    "from sklearn.svm import SVC\n",
    "\n",
    "sns.set_style('darkgrid')\n",
    "\n",
    "%matplotlib inline"
   ]
  },
  {
   "cell_type": "markdown",
   "id": "0f28019e",
   "metadata": {},
   "source": [
    "## Logistic Regression"
   ]
  },
  {
   "cell_type": "code",
   "execution_count": 31,
   "id": "b84cb08e",
   "metadata": {},
   "outputs": [
    {
     "name": "stdout",
     "output_type": "stream",
     "text": [
      "Class distribution:\n",
      "1    357\n",
      "0    212\n",
      "dtype: int64\n",
      "Dataset size:\n",
      "(569, 30)\n",
      "[0.97826087 0.95652174 0.95652174 0.91304348 1.         1.\n",
      " 0.95555556 0.97777778 0.93333333 0.95555556]\n",
      "0.962657004830918\n"
     ]
    }
   ],
   "source": [
    "from sklearn.datasets import load_breast_cancer\n",
    "data = load_breast_cancer()\n",
    "feature_names = data.feature_names\n",
    "bc_df = pd.DataFrame(data.data, columns = feature_names)\n",
    "target = pd.Series(data.target)\n",
    "print('Class distribution:')\n",
    "print(target.value_counts())\n",
    "print(\"Dataset size:\")\n",
    "print(bc_df.shape)\n",
    "dev_X, test_X, dev_y, test_y = train_test_split(bc_df, target,\n",
    "                                                 test_size=0.2, random_state=42)\n",
    "preprocess = make_column_transformer((StandardScaler(), feature_names))\n",
    "pipe = make_pipeline(preprocess, LogisticRegression(C=1e6))\n",
    "scores = cross_val_score(pipe, dev_X, dev_y, cv=10, error_score=\"raise\")\n",
    "print(scores)\n",
    "print(np.mean(scores))"
   ]
  },
  {
   "cell_type": "markdown",
   "id": "d055063a",
   "metadata": {},
   "source": [
    "## Lasso Logistic Regression "
   ]
  },
  {
   "cell_type": "code",
   "execution_count": 35,
   "id": "25d4c82d",
   "metadata": {},
   "outputs": [
    {
     "name": "stdout",
     "output_type": "stream",
     "text": [
      "Class distribution:\n",
      "1    357\n",
      "0    212\n",
      "dtype: int64\n",
      "Dataset size:\n",
      "(569, 30)\n",
      "[1.         0.97826087 0.97826087 0.93478261 0.97826087 0.97777778\n",
      " 0.97777778 0.95555556 0.95555556 0.95555556]\n",
      "0.9691787439613526\n"
     ]
    }
   ],
   "source": [
    "from sklearn.datasets import load_breast_cancer\n",
    "data = load_breast_cancer()\n",
    "feature_names = data.feature_names\n",
    "bc_df = pd.DataFrame(data.data, columns = feature_names)\n",
    "target = pd.Series(data.target)\n",
    "print('Class distribution:')\n",
    "print(target.value_counts())\n",
    "print(\"Dataset size:\")\n",
    "print(bc_df.shape)\n",
    "dev_X, test_X, dev_y, test_y = train_test_split(bc_df, target,\n",
    "                                                 test_size=0.2, random_state=42)\n",
    "preprocess = make_column_transformer((StandardScaler(), feature_names))\n",
    "pipe = make_pipeline(preprocess, LogisticRegression('l1', C=0.1, solver= 'liblinear'))\n",
    "scores = cross_val_score(pipe, dev_X, dev_y, cv=10, error_score=\"raise\")\n",
    "print(scores)\n",
    "print(np.mean(scores))"
   ]
  },
  {
   "cell_type": "markdown",
   "id": "6d4822e0",
   "metadata": {},
   "source": [
    "## Lasso Logistic Regression - hyperparameter tuning"
   ]
  },
  {
   "cell_type": "code",
   "execution_count": 40,
   "id": "b10c3720",
   "metadata": {},
   "outputs": [
    {
     "name": "stdout",
     "output_type": "stream",
     "text": [
      "Class distribution:\n",
      "1    357\n",
      "0    212\n",
      "dtype: int64\n",
      "Dataset size:\n",
      "(569, 30)\n",
      "Best score: 0.9758241758241759\n",
      "Best alpha: {'C': 0.46415888336127775, 'penalty': 'l1', 'solver': 'liblinear'}\n",
      "Test score: 0.9736842105263158\n"
     ]
    }
   ],
   "source": [
    "from sklearn.datasets import load_breast_cancer\n",
    "data = load_breast_cancer()\n",
    "feature_names = data.feature_names\n",
    "bc_df = pd.DataFrame(data.data, columns = feature_names)\n",
    "target = pd.Series(data.target)\n",
    "print('Class distribution:')\n",
    "print(target.value_counts())\n",
    "print(\"Dataset size:\")\n",
    "print(bc_df.shape)\n",
    "dev_X, test_X, dev_y, test_y = train_test_split(bc_df, target,\n",
    "                                                 test_size=0.2, random_state=42)\n",
    "preprocess = make_column_transformer((StandardScaler(), feature_names))\n",
    "\n",
    "pipe = make_pipeline(preprocess,\n",
    "                     GridSearchCV(LogisticRegression(),\n",
    "                                  param_grid = [{\"penalty\":['l1'],\n",
    "                                                 \"solver\":[\"liblinear\"],\n",
    "                                                 \"C\":np.logspace(-3, 3, 10)}],\n",
    "                                  return_train_score=True))\n",
    "\n",
    "pipe.fit(dev_X, dev_y)\n",
    "grid_search_results = pipe.named_steps[\"gridsearchcv\"]\n",
    "print(f'Best score:', grid_search_results.best_score_)\n",
    "print(f'Best alpha:', grid_search_results.best_params_)    \n",
    "print(f\"Test score:\", pipe.score(test_X, test_y))"
   ]
  },
  {
   "cell_type": "markdown",
   "id": "f4821425",
   "metadata": {},
   "source": [
    "## Ridge Logistic Regression"
   ]
  },
  {
   "cell_type": "code",
   "execution_count": 2,
   "id": "2776dae7",
   "metadata": {},
   "outputs": [
    {
     "name": "stdout",
     "output_type": "stream",
     "text": [
      "Class distribution:\n",
      "1    357\n",
      "0    212\n",
      "dtype: int64\n",
      "Dataset size:\n",
      "(569, 30)\n",
      "[1.         0.97826087 0.97826087 0.95652174 0.97826087 1.\n",
      " 0.97777778 0.97777778 0.97777778 0.97777778]\n",
      "0.9802415458937197\n"
     ]
    }
   ],
   "source": [
    "from sklearn.datasets import load_breast_cancer\n",
    "data = load_breast_cancer()\n",
    "feature_names = data.feature_names\n",
    "bc_df = pd.DataFrame(data.data, columns = feature_names)\n",
    "target = pd.Series(data.target)\n",
    "print('Class distribution:')\n",
    "print(target.value_counts())\n",
    "print(\"Dataset size:\")\n",
    "print(bc_df.shape)\n",
    "dev_X, test_X, dev_y, test_y = train_test_split(bc_df, target,\n",
    "                                                 test_size=0.2, random_state=42)\n",
    "preprocess = make_column_transformer((StandardScaler(), feature_names))\n",
    "pipe = make_pipeline(preprocess, LogisticRegression('l2', C=0.1, solver= 'liblinear'))\n",
    "scores = cross_val_score(pipe, dev_X, dev_y, cv=10, error_score=\"raise\")\n",
    "print(scores)\n",
    "print(np.mean(scores))"
   ]
  },
  {
   "cell_type": "markdown",
   "id": "814d7ca8",
   "metadata": {},
   "source": [
    "## Ridge Logistic Regression - hyperparameter tuning"
   ]
  },
  {
   "cell_type": "code",
   "execution_count": 3,
   "id": "83ab07dc",
   "metadata": {},
   "outputs": [
    {
     "name": "stdout",
     "output_type": "stream",
     "text": [
      "Class distribution:\n",
      "1    357\n",
      "0    212\n",
      "dtype: int64\n",
      "Dataset size:\n",
      "(569, 30)\n",
      "Best score: 0.9780219780219781\n",
      "Best alpha: {'C': 0.1, 'penalty': 'l2', 'solver': 'liblinear'}\n",
      "Test score: 0.9912280701754386\n"
     ]
    }
   ],
   "source": [
    "from sklearn.datasets import load_breast_cancer\n",
    "data = load_breast_cancer()\n",
    "feature_names = data.feature_names\n",
    "bc_df = pd.DataFrame(data.data, columns = feature_names)\n",
    "target = pd.Series(data.target)\n",
    "print('Class distribution:')\n",
    "print(target.value_counts())\n",
    "print(\"Dataset size:\")\n",
    "print(bc_df.shape)\n",
    "dev_X, test_X, dev_y, test_y = train_test_split(bc_df, target,\n",
    "                                                 test_size=0.2, random_state=42)\n",
    "preprocess = make_column_transformer((StandardScaler(), feature_names))\n",
    "\n",
    "pipe = make_pipeline(preprocess,\n",
    "                     GridSearchCV(LogisticRegression(),\n",
    "                                  param_grid = [{\"penalty\":['l2'],\n",
    "                                                 \"solver\":[\"liblinear\"],\n",
    "                                                 \"C\":np.logspace(-3, 3, 10)}],\n",
    "                                  return_train_score=True))\n",
    "\n",
    "pipe.fit(dev_X, dev_y)\n",
    "grid_search_results = pipe.named_steps[\"gridsearchcv\"]\n",
    "print(f'Best score:', grid_search_results.best_score_)\n",
    "print(f'Best alpha:', grid_search_results.best_params_)    \n",
    "print(f\"Test score:\", pipe.score(test_X, test_y))"
   ]
  },
  {
   "cell_type": "markdown",
   "id": "d4c22c36",
   "metadata": {},
   "source": [
    "## Elastic Net Logistic Regression"
   ]
  },
  {
   "cell_type": "code",
   "execution_count": 5,
   "id": "3f0a472d",
   "metadata": {},
   "outputs": [
    {
     "name": "stdout",
     "output_type": "stream",
     "text": [
      "Class distribution:\n",
      "1    357\n",
      "0    212\n",
      "dtype: int64\n",
      "Dataset size:\n",
      "(569, 30)\n",
      "[1.         0.97826087 0.97826087 0.95652174 0.97826087 1.\n",
      " 0.97777778 0.97777778 0.97777778 0.91111111]\n",
      "0.9735748792270531\n"
     ]
    }
   ],
   "source": [
    "from sklearn.datasets import load_breast_cancer\n",
    "data = load_breast_cancer()\n",
    "feature_names = data.feature_names\n",
    "bc_df = pd.DataFrame(data.data, columns = feature_names)\n",
    "target = pd.Series(data.target)\n",
    "print('Class distribution:')\n",
    "print(target.value_counts())\n",
    "print(\"Dataset size:\")\n",
    "print(bc_df.shape)\n",
    "dev_X, test_X, dev_y, test_y = train_test_split(bc_df, target,\n",
    "                                                 test_size=0.2, random_state=42)\n",
    "preprocess = make_column_transformer((StandardScaler(), feature_names))\n",
    "pipe = make_pipeline(preprocess, LogisticRegression('elasticnet', C=0.1, solver= 'saga', l1_ratio=0.5))\n",
    "scores = cross_val_score(pipe, dev_X, dev_y, cv=10, error_score=\"raise\")\n",
    "print(scores)\n",
    "print(np.mean(scores))"
   ]
  },
  {
   "cell_type": "markdown",
   "id": "cdf79be6",
   "metadata": {},
   "source": [
    "## Elastic Net Logistic Regression - hyperparameter tuning"
   ]
  },
  {
   "cell_type": "code",
   "execution_count": 12,
   "id": "bb62232c",
   "metadata": {},
   "outputs": [
    {
     "name": "stdout",
     "output_type": "stream",
     "text": [
      "Class distribution:\n",
      "1    357\n",
      "0    212\n",
      "dtype: int64\n",
      "Dataset size:\n",
      "(569, 30)\n",
      "Best score: 0.9780219780219781\n",
      "Best alpha: {'C': 2.154434690031882, 'l1_ratio': 0.1111111111111111, 'penalty': 'elasticnet', 'solver': 'saga'}\n",
      "Test score: 0.9824561403508771\n"
     ]
    }
   ],
   "source": [
    "from sklearn.datasets import load_breast_cancer\n",
    "data = load_breast_cancer()\n",
    "feature_names = data.feature_names\n",
    "bc_df = pd.DataFrame(data.data, columns = feature_names)\n",
    "target = pd.Series(data.target)\n",
    "print('Class distribution:')\n",
    "print(target.value_counts())\n",
    "print(\"Dataset size:\")\n",
    "print(bc_df.shape)\n",
    "dev_X, test_X, dev_y, test_y = train_test_split(bc_df, target,\n",
    "                                                 test_size=0.2, random_state=42)\n",
    "preprocess = make_column_transformer((StandardScaler(), feature_names))\n",
    "\n",
    "pipe = make_pipeline(preprocess,\n",
    "                     GridSearchCV(LogisticRegression(),\n",
    "                                  param_grid = [{\"penalty\":['elasticnet'],\n",
    "                                                 \"solver\":[\"saga\"],\n",
    "                                                 \"C\":np.logspace(-3, 3, 10),\n",
    "                                                \"l1_ratio\": np.linspace(0, 1, 10)}],\n",
    "                                  return_train_score=True))\n",
    "\n",
    "pipe.fit(dev_X, dev_y)\n",
    "grid_search_results = pipe.named_steps[\"gridsearchcv\"]\n",
    "print(f'Best score:', grid_search_results.best_score_)\n",
    "print(f'Best alpha:', grid_search_results.best_params_)    \n",
    "print(f\"Test score:\", pipe.score(test_X, test_y))"
   ]
  },
  {
   "cell_type": "markdown",
   "id": "60399871",
   "metadata": {},
   "source": [
    "## Soft-Margin SVMs (primal)"
   ]
  },
  {
   "cell_type": "code",
   "execution_count": 15,
   "id": "c8a181d1",
   "metadata": {},
   "outputs": [
    {
     "name": "stdout",
     "output_type": "stream",
     "text": [
      "Class distribution:\n",
      "1    357\n",
      "0    212\n",
      "dtype: int64\n",
      "Dataset size:\n",
      "(569, 30)\n",
      "[0.97826087 0.97826087 0.97826087 0.95652174 0.97826087 1.\n",
      " 0.97777778 0.97777778 0.95555556 1.        ]\n",
      "0.9780676328502415\n"
     ]
    }
   ],
   "source": [
    "from sklearn.datasets import load_breast_cancer\n",
    "data = load_breast_cancer()\n",
    "feature_names = data.feature_names\n",
    "bc_df = pd.DataFrame(data.data, columns = feature_names)\n",
    "target = pd.Series(data.target)\n",
    "print('Class distribution:')\n",
    "print(target.value_counts())\n",
    "print(\"Dataset size:\")\n",
    "print(bc_df.shape)\n",
    "dev_X, test_X, dev_y, test_y = train_test_split(bc_df, target,\n",
    "                                                 test_size=0.2, random_state=42)\n",
    "preprocess = make_column_transformer((StandardScaler(), feature_names))\n",
    "pipe = make_pipeline(preprocess, LinearSVC(C=0.1, loss=\"hinge\"))\n",
    "scores = cross_val_score(pipe, dev_X, dev_y, cv=10, error_score=\"raise\")\n",
    "print(scores)\n",
    "print(np.mean(scores))"
   ]
  },
  {
   "cell_type": "markdown",
   "id": "082f5b59",
   "metadata": {},
   "source": [
    "## Soft-Margin SVMs (dual)"
   ]
  },
  {
   "cell_type": "code",
   "execution_count": 18,
   "id": "360cdb52",
   "metadata": {},
   "outputs": [
    {
     "name": "stdout",
     "output_type": "stream",
     "text": [
      "Class distribution:\n",
      "1    357\n",
      "0    212\n",
      "dtype: int64\n",
      "Dataset size:\n",
      "(569, 30)\n",
      "[0.97826087 0.97826087 0.97826087 0.95652174 0.97826087 1.\n",
      " 0.97777778 0.97777778 0.95555556 1.        ]\n",
      "0.9780676328502415\n"
     ]
    }
   ],
   "source": [
    "from sklearn.datasets import load_breast_cancer\n",
    "data = load_breast_cancer()\n",
    "feature_names = data.feature_names\n",
    "bc_df = pd.DataFrame(data.data, columns = feature_names)\n",
    "target = pd.Series(data.target)\n",
    "print('Class distribution:')\n",
    "print(target.value_counts())\n",
    "print(\"Dataset size:\")\n",
    "print(bc_df.shape)\n",
    "dev_X, test_X, dev_y, test_y = train_test_split(bc_df, target,\n",
    "                                                 test_size=0.2, random_state=42)\n",
    "preprocess = make_column_transformer((StandardScaler(), feature_names))\n",
    "pipe = make_pipeline(preprocess, SVC(C=0.1, kernel='linear'))\n",
    "scores = cross_val_score(pipe, dev_X, dev_y, cv=10, error_score=\"raise\")\n",
    "print(scores)\n",
    "print(np.mean(scores))"
   ]
  },
  {
   "cell_type": "markdown",
   "id": "0f183b86",
   "metadata": {},
   "source": [
    "## Soft-Margin SVMs - hyperparameter tuning"
   ]
  },
  {
   "cell_type": "code",
   "execution_count": 20,
   "id": "94ad2622",
   "metadata": {},
   "outputs": [
    {
     "name": "stdout",
     "output_type": "stream",
     "text": [
      "Class distribution:\n",
      "1    357\n",
      "0    212\n",
      "dtype: int64\n",
      "Dataset size:\n",
      "(569, 30)\n",
      "Best score: 0.9758241758241759\n",
      "Best alpha: {'C': 0.0379269019073225, 'kernel': 'linear'}\n",
      "Test score: 0.9824561403508771\n"
     ]
    }
   ],
   "source": [
    "from sklearn.datasets import load_breast_cancer\n",
    "data = load_breast_cancer()\n",
    "feature_names = data.feature_names\n",
    "bc_df = pd.DataFrame(data.data, columns = feature_names)\n",
    "target = pd.Series(data.target)\n",
    "print('Class distribution:')\n",
    "print(target.value_counts())\n",
    "print(\"Dataset size:\")\n",
    "print(bc_df.shape)\n",
    "dev_X, test_X, dev_y, test_y = train_test_split(bc_df, target,\n",
    "                                                 test_size=0.2, random_state=42)\n",
    "preprocess = make_column_transformer((StandardScaler(), feature_names))\n",
    "\n",
    "pipe = make_pipeline(preprocess,\n",
    "                     GridSearchCV(SVC(),\n",
    "                                  param_grid = {\"kernel\":['linear'],\n",
    "                                                 \"C\":np.logspace(-3, 3, 20)},                                                          \n",
    "                                  return_train_score=True))\n",
    "\n",
    "pipe.fit(dev_X, dev_y)\n",
    "grid_search_results = pipe.named_steps[\"gridsearchcv\"]\n",
    "print(f'Best score:', grid_search_results.best_score_)\n",
    "print(f'Best alpha:', grid_search_results.best_params_)    \n",
    "print(f\"Test score:\", pipe.score(test_X, test_y))"
   ]
  },
  {
   "cell_type": "code",
   "execution_count": 21,
   "id": "8af55a6b",
   "metadata": {},
   "outputs": [
    {
     "data": {
      "text/plain": [
       "array([[-0.0379269 , -0.0379269 , -0.0379269 , -0.0379269 , -0.0379269 ,\n",
       "        -0.03177964, -0.0379269 , -0.0379269 , -0.0379269 , -0.0379269 ,\n",
       "        -0.0379269 , -0.0379269 , -0.03527029, -0.0379269 , -0.0379269 ,\n",
       "        -0.0379269 , -0.0379269 , -0.0379269 , -0.0379269 , -0.0379269 ,\n",
       "        -0.0379269 , -0.0379269 , -0.0379269 , -0.0379269 , -0.0379269 ,\n",
       "        -0.0379269 , -0.0379269 , -0.00737361, -0.0379269 , -0.0379269 ,\n",
       "        -0.0379269 , -0.0379269 , -0.0379269 , -0.0379269 ,  0.01497148,\n",
       "         0.00997104,  0.0379269 ,  0.0379269 ,  0.0379269 ,  0.02522742,\n",
       "         0.0379269 ,  0.0379269 ,  0.0379269 ,  0.02246217,  0.0379269 ,\n",
       "         0.0379269 ,  0.0379269 ,  0.0379269 ,  0.0379269 ,  0.0379269 ,\n",
       "         0.0379269 ,  0.0379269 ,  0.00028438,  0.0379269 ,  0.0379269 ,\n",
       "         0.0379269 ,  0.0379269 ,  0.0379269 ,  0.0379269 ,  0.0379269 ,\n",
       "         0.0379269 ,  0.03464645,  0.0379269 ,  0.0379269 ,  0.0379269 ,\n",
       "         0.0379269 ,  0.02857075,  0.0379269 ,  0.0379269 ,  0.01414365,\n",
       "         0.0379269 ]])"
      ]
     },
     "execution_count": 21,
     "metadata": {},
     "output_type": "execute_result"
    }
   ],
   "source": [
    "grid_search_results.best_estimator_.dual_coef_"
   ]
  },
  {
   "cell_type": "code",
   "execution_count": 22,
   "id": "ca0180b1",
   "metadata": {},
   "outputs": [
    {
     "data": {
      "text/plain": [
       "array([[ 0.32910211,  0.75680107,  0.28967589, ...,  0.12899967,\n",
       "         0.42798088,  0.77697663],\n",
       "       [ 0.27813844,  0.66528001,  0.22134988, ...,  0.59486965,\n",
       "        -0.36464082, -0.28818525],\n",
       "       [ 0.28663239,  2.49335462,  0.19871174, ..., -0.74220784,\n",
       "         0.51992499, -1.24621394],\n",
       "       ...,\n",
       "       [ 0.24699397,  0.68640025,  0.23246315, ...,  0.25466197,\n",
       "         0.40895795,  0.48474423],\n",
       "       [ 1.05675009, -1.397464  ,  0.93506863, ..., -0.47157416,\n",
       "        -1.77867793, -1.41112052],\n",
       "       [-0.27679932,  0.36490318, -0.24293775, ...,  0.06003866,\n",
       "        -0.54218808, -0.11935232]])"
      ]
     },
     "execution_count": 22,
     "metadata": {},
     "output_type": "execute_result"
    }
   ],
   "source": [
    "grid_search_results.best_estimator_.support_vectors_"
   ]
  },
  {
   "cell_type": "code",
   "execution_count": 24,
   "id": "7dea166e",
   "metadata": {},
   "outputs": [
    {
     "data": {
      "text/plain": [
       "(71, 30)"
      ]
     },
     "execution_count": 24,
     "metadata": {},
     "output_type": "execute_result"
    }
   ],
   "source": [
    "grid_search_results.best_estimator_.support_vectors_.shape"
   ]
  },
  {
   "cell_type": "markdown",
   "id": "7bd5753e",
   "metadata": {},
   "source": [
    "## Hard-margin SVMs"
   ]
  },
  {
   "cell_type": "code",
   "execution_count": 25,
   "id": "03cd1c53",
   "metadata": {},
   "outputs": [
    {
     "name": "stdout",
     "output_type": "stream",
     "text": [
      "Class distribution:\n",
      "1    357\n",
      "0    212\n",
      "dtype: int64\n",
      "Dataset size:\n",
      "(569, 30)\n",
      "[0.97826087 0.95652174 0.93478261 0.93478261 1.         1.\n",
      " 0.95555556 0.93333333 0.91111111 0.95555556]\n",
      "0.9559903381642514\n"
     ]
    }
   ],
   "source": [
    "from sklearn.datasets import load_breast_cancer\n",
    "data = load_breast_cancer()\n",
    "feature_names = data.feature_names\n",
    "bc_df = pd.DataFrame(data.data, columns = feature_names)\n",
    "target = pd.Series(data.target)\n",
    "print('Class distribution:')\n",
    "print(target.value_counts())\n",
    "print(\"Dataset size:\")\n",
    "print(bc_df.shape)\n",
    "dev_X, test_X, dev_y, test_y = train_test_split(bc_df, target,\n",
    "                                                 test_size=0.2, random_state=42)\n",
    "preprocess = make_column_transformer((StandardScaler(), feature_names))\n",
    "pipe = make_pipeline(preprocess, SVC(C=1e8, kernel='linear'))\n",
    "scores = cross_val_score(pipe, dev_X, dev_y, cv=10, error_score=\"raise\")\n",
    "print(scores)\n",
    "print(np.mean(scores))"
   ]
  },
  {
   "cell_type": "markdown",
   "id": "4e2c11f5",
   "metadata": {},
   "source": [
    "## Kernel SVMs"
   ]
  },
  {
   "cell_type": "code",
   "execution_count": 26,
   "id": "c0fb1dbf",
   "metadata": {},
   "outputs": [
    {
     "name": "stdout",
     "output_type": "stream",
     "text": [
      "Class distribution:\n",
      "1    357\n",
      "0    212\n",
      "dtype: int64\n",
      "Dataset size:\n",
      "(569, 30)\n",
      "[0.63043478 0.63043478 0.63043478 0.63043478 0.63043478 0.64444444\n",
      " 0.62222222 0.62222222 0.62222222 0.62222222]\n",
      "0.6285507246376811\n"
     ]
    }
   ],
   "source": [
    "from sklearn.datasets import load_breast_cancer\n",
    "data = load_breast_cancer()\n",
    "feature_names = data.feature_names\n",
    "bc_df = pd.DataFrame(data.data, columns = feature_names)\n",
    "target = pd.Series(data.target)\n",
    "print('Class distribution:')\n",
    "print(target.value_counts())\n",
    "print(\"Dataset size:\")\n",
    "print(bc_df.shape)\n",
    "dev_X, test_X, dev_y, test_y = train_test_split(bc_df, target,\n",
    "                                                 test_size=0.2, random_state=42)\n",
    "preprocess = make_column_transformer((StandardScaler(), feature_names))\n",
    "pipe = make_pipeline(preprocess, SVC(C=1.0, kernel= 'rbf', gamma=1.0))\n",
    "scores = cross_val_score(pipe, dev_X, dev_y, cv=10, error_score=\"raise\")\n",
    "print(scores)\n",
    "print(np.mean(scores))"
   ]
  },
  {
   "cell_type": "code",
   "execution_count": 27,
   "id": "686f308e",
   "metadata": {},
   "outputs": [
    {
     "name": "stdout",
     "output_type": "stream",
     "text": [
      "Class distribution:\n",
      "1    357\n",
      "0    212\n",
      "dtype: int64\n",
      "Dataset size:\n",
      "(569, 30)\n",
      "[0.93478261 0.97826087 0.97826087 0.95652174 0.97826087 0.97777778\n",
      " 0.97777778 0.95555556 0.97777778 0.86666667]\n",
      "0.9581642512077295\n"
     ]
    }
   ],
   "source": [
    "from sklearn.datasets import load_breast_cancer\n",
    "data = load_breast_cancer()\n",
    "feature_names = data.feature_names\n",
    "bc_df = pd.DataFrame(data.data, columns = feature_names)\n",
    "target = pd.Series(data.target)\n",
    "print('Class distribution:')\n",
    "print(target.value_counts())\n",
    "print(\"Dataset size:\")\n",
    "print(bc_df.shape)\n",
    "dev_X, test_X, dev_y, test_y = train_test_split(bc_df, target,\n",
    "                                                 test_size=0.2, random_state=42)\n",
    "preprocess = make_column_transformer((StandardScaler(), feature_names))\n",
    "pipe = make_pipeline(preprocess, SVC(C=1.0, kernel= 'rbf', gamma=0.1))\n",
    "scores = cross_val_score(pipe, dev_X, dev_y, cv=10, error_score=\"raise\")\n",
    "print(scores)\n",
    "print(np.mean(scores))"
   ]
  },
  {
   "cell_type": "markdown",
   "id": "47d441f3",
   "metadata": {},
   "source": [
    "## Kernel SVMs - hyperparameter tuning"
   ]
  },
  {
   "cell_type": "code",
   "execution_count": 28,
   "id": "779aef6a",
   "metadata": {},
   "outputs": [
    {
     "name": "stdout",
     "output_type": "stream",
     "text": [
      "Class distribution:\n",
      "1    357\n",
      "0    212\n",
      "dtype: int64\n",
      "Dataset size:\n",
      "(569, 30)\n",
      "Best score: 0.9780219780219781\n",
      "Best alpha: {'C': 2.976351441631316, 'gamma': 0.007742636826811269, 'kernel': 'rbf'}\n",
      "Test score: 0.9824561403508771\n"
     ]
    }
   ],
   "source": [
    "from sklearn.datasets import load_breast_cancer\n",
    "data = load_breast_cancer()\n",
    "feature_names = data.feature_names\n",
    "bc_df = pd.DataFrame(data.data, columns = feature_names)\n",
    "target = pd.Series(data.target)\n",
    "print('Class distribution:')\n",
    "print(target.value_counts())\n",
    "print(\"Dataset size:\")\n",
    "print(bc_df.shape)\n",
    "dev_X, test_X, dev_y, test_y = train_test_split(bc_df, target,\n",
    "                                                 test_size=0.2, random_state=42)\n",
    "preprocess = make_column_transformer((StandardScaler(), feature_names))\n",
    "\n",
    "pipe = make_pipeline(preprocess,\n",
    "                     GridSearchCV(SVC(),\n",
    "                                  param_grid = {\"kernel\":['rbf'],\n",
    "                                                 \"C\":np.logspace(-3, 3, 20),\n",
    "                                               \"gamma\":np.logspace(-3, 1, 10)},                                                          \n",
    "                                  return_train_score=True))\n",
    "\n",
    "pipe.fit(dev_X, dev_y)\n",
    "grid_search_results = pipe.named_steps[\"gridsearchcv\"]\n",
    "print(f'Best score:', grid_search_results.best_score_)\n",
    "print(f'Best alpha:', grid_search_results.best_params_)    \n",
    "print(f\"Test score:\", pipe.score(test_X, test_y))"
   ]
  },
  {
   "cell_type": "markdown",
   "id": "bbec58ef",
   "metadata": {},
   "source": [
    "## Multiclass classification "
   ]
  },
  {
   "cell_type": "code",
   "execution_count": 32,
   "id": "9b0f4395",
   "metadata": {},
   "outputs": [
    {
     "name": "stdout",
     "output_type": "stream",
     "text": [
      "(1599, 13)\n",
      "Index(['fixed acidity', 'volatile acidity', 'citric acid', 'residual sugar',\n",
      "       'chlorides', 'free sulfur dioxide', 'total sulfur dioxide', 'density',\n",
      "       'pH', 'sulphates', 'alcohol', 'quality', 'label'],\n",
      "      dtype='object')\n"
     ]
    },
    {
     "data": {
      "text/plain": [
       "good      1319\n",
       "better     217\n",
       "poor        63\n",
       "Name: label, dtype: int64"
      ]
     },
     "execution_count": 32,
     "metadata": {},
     "output_type": "execute_result"
    }
   ],
   "source": [
    "def quality_to_label(x):\n",
    "    if x <= 4:\n",
    "        return 'poor'\n",
    "    elif x > 4 and x <=6:\n",
    "        return 'good'\n",
    "    elif x > 6 and x <=8:\n",
    "        return 'better'\n",
    "    else:\n",
    "        return 'best'\n",
    "\n",
    "data_path = \"Data/winequality-red.csv\"\n",
    "wine_df = pd.read_csv(data_path)\n",
    "wine_df[\"label\"] = wine_df [\"quality\" ].apply (lambda x: quality_to_label(x))\n",
    "print (wine_df.shape)\n",
    "print (wine_df.columns)\n",
    "wine_df.label.value_counts()"
   ]
  },
  {
   "cell_type": "code",
   "execution_count": 37,
   "id": "fa76bae2",
   "metadata": {},
   "outputs": [
    {
     "name": "stdout",
     "output_type": "stream",
     "text": [
      "Dataset size:\n",
      "(1599, 11)\n"
     ]
    }
   ],
   "source": [
    "feature_names = ['fixed acidity',\n",
    "                 'volatile acidity',\n",
    "                 'citric acid',\n",
    "                 'residual sugar', \n",
    "                 'chlorides',\n",
    "                 'free sulfur dioxide',\n",
    "                 'total sulfur dioxide',\n",
    "                 'density',\n",
    "                 'pH',\n",
    "                 'sulphates',\n",
    "                 'alcohol',\n",
    "]\n",
    "wine_feature_df = wine_df[feature_names]\n",
    "wine_target = wine_df[\"label\"]\n",
    "print(\"Dataset size:\")\n",
    "print(wine_feature_df.shape)"
   ]
  },
  {
   "cell_type": "markdown",
   "id": "734d8c54",
   "metadata": {},
   "source": [
    "## OVR v.s. OVO"
   ]
  },
  {
   "cell_type": "code",
   "execution_count": 39,
   "id": "8a9f0706",
   "metadata": {},
   "outputs": [
    {
     "name": "stdout",
     "output_type": "stream",
     "text": [
      "[0.828125   0.828125   0.828125   0.828125   0.828125   0.828125\n",
      " 0.828125   0.8203125  0.8203125  0.82677165]\n",
      "0.8264271653543307\n"
     ]
    }
   ],
   "source": [
    "dev_X, test_X, dev_y, test_y = train_test_split(wine_feature_df, wine_target,\n",
    "                                                test_size=0.2, random_state=42)\n",
    "preprocess = make_column_transformer((StandardScaler(), feature_names))\n",
    "pipe = make_pipeline(preprocess, SVC(C=0.1, kernel='linear', decision_function_shape='ovr'))\n",
    "scores = cross_val_score(pipe, dev_X, dev_y, cv=10, error_score=\"raise\")\n",
    "print(scores)\n",
    "print(np.mean(scores))"
   ]
  },
  {
   "cell_type": "code",
   "execution_count": 40,
   "id": "e0861c96",
   "metadata": {},
   "outputs": [
    {
     "name": "stdout",
     "output_type": "stream",
     "text": [
      "[0.828125   0.828125   0.828125   0.828125   0.828125   0.828125\n",
      " 0.828125   0.8203125  0.8203125  0.82677165]\n",
      "0.8264271653543307\n"
     ]
    }
   ],
   "source": [
    "dev_X, test_X, dev_y, test_y = train_test_split(wine_feature_df, wine_target,\n",
    "                                                test_size=0.2, random_state=42)\n",
    "preprocess = make_column_transformer((StandardScaler(), feature_names))\n",
    "pipe = make_pipeline(preprocess, SVC(C=0.1, kernel='linear', decision_function_shape='ovo'))\n",
    "scores = cross_val_score(pipe, dev_X, dev_y, cv=10, error_score=\"raise\")\n",
    "print(scores)\n",
    "print(np.mean(scores))"
   ]
  },
  {
   "cell_type": "markdown",
   "id": "645d000a",
   "metadata": {},
   "source": [
    "## Multinomial Logistic Regression"
   ]
  },
  {
   "cell_type": "code",
   "execution_count": 41,
   "id": "39454475",
   "metadata": {},
   "outputs": [
    {
     "name": "stdout",
     "output_type": "stream",
     "text": [
      "[0.8515625  0.8359375  0.8515625  0.875      0.8515625  0.8046875\n",
      " 0.8515625  0.8359375  0.84375    0.85826772]\n",
      "0.8459830216535433\n"
     ]
    }
   ],
   "source": [
    "dev_X, test_X, dev_y, test_y = train_test_split(wine_feature_df, wine_target,\n",
    "                                                test_size=0.2, random_state=42)\n",
    "preprocess = make_column_transformer((StandardScaler(), feature_names))\n",
    "pipe = make_pipeline(preprocess, LogisticRegression('l2', C=1.0, multi_class='multinomial'))\n",
    "scores = cross_val_score(pipe, dev_X, dev_y, cv=10, error_score=\"raise\")\n",
    "print(scores)\n",
    "print(np.mean(scores))"
   ]
  },
  {
   "cell_type": "code",
   "execution_count": null,
   "id": "f042917b",
   "metadata": {},
   "outputs": [],
   "source": []
  }
 ],
 "metadata": {
  "kernelspec": {
   "display_name": "Python_Proj",
   "language": "python",
   "name": "python_proj"
  },
  "language_info": {
   "codemirror_mode": {
    "name": "ipython",
    "version": 3
   },
   "file_extension": ".py",
   "mimetype": "text/x-python",
   "name": "python",
   "nbconvert_exporter": "python",
   "pygments_lexer": "ipython3",
   "version": "3.10.6"
  }
 },
 "nbformat": 4,
 "nbformat_minor": 5
}
