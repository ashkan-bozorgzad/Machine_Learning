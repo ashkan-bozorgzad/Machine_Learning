{
 "cells": [
  {
   "cell_type": "markdown",
   "id": "d44647d6",
   "metadata": {},
   "source": [
    "# Notebook imports"
   ]
  },
  {
   "cell_type": "code",
   "execution_count": 5,
   "id": "30297f52",
   "metadata": {},
   "outputs": [],
   "source": [
    "import numpy as np\n",
    "import pandas as pd\n",
    "import matplotlib.pyplot as plt\n",
    "import spacy\n",
    "\n",
    "%matplotlib inline"
   ]
  },
  {
   "cell_type": "code",
   "execution_count": 13,
   "id": "67c0e29f",
   "metadata": {},
   "outputs": [
    {
     "name": "stdout",
     "output_type": "stream",
     "text": [
      "Winter winter NOUN NN nsubj Xxxxx True False\n",
      "is be AUX VBZ aux xx True True\n",
      "coming come VERB VBG ROOT xxxx True False\n"
     ]
    }
   ],
   "source": [
    "nlp = spacy.load('en_core_web_lg')\n",
    "doc = nlp('Winter is coming')\n",
    "for token in doc:\n",
    "    print(token.text, token.lemma_, token.pos_, token.tag_, \n",
    "          token.dep_, token.shape_, token.is_alpha, token.is_stop)"
   ]
  },
  {
   "cell_type": "code",
   "execution_count": 15,
   "id": "4bb8513e",
   "metadata": {},
   "outputs": [
    {
     "name": "stdout",
     "output_type": "stream",
     "text": [
      "Winter True (300,)\n",
      "is True (300,)\n",
      "coming True (300,)\n"
     ]
    }
   ],
   "source": [
    "doc = nlp('Winter is coming')\n",
    "for token in doc:\n",
    "    print(token.text, token.has_vector, token.vector.shape)"
   ]
  },
  {
   "cell_type": "code",
   "execution_count": 16,
   "id": "ad578736",
   "metadata": {},
   "outputs": [
    {
     "data": {
      "text/plain": [
       "(514157, 300)"
      ]
     },
     "execution_count": 16,
     "metadata": {},
     "output_type": "execute_result"
    }
   ],
   "source": [
    "nlp.vocab.vectors.shape"
   ]
  },
  {
   "cell_type": "code",
   "execution_count": 48,
   "id": "77533dea",
   "metadata": {},
   "outputs": [
    {
     "name": "stderr",
     "output_type": "stream",
     "text": [
      "C:\\Users\\Zeus\\AppData\\Local\\Temp\\ipykernel_7980\\3224895206.py:3: UserWarning: [W008] Evaluating Doc.similarity based on empty vectors.\n",
      "  by_similarity = sorted(queries, key=lambda w: word.similarity(w), reverse=True)\n"
     ]
    },
    {
     "data": {
      "text/plain": [
       "['throne', 'r.', 'he', 'when', 'she', 'was', 'they', 'that', 'would', 'where']"
      ]
     },
     "execution_count": 48,
     "metadata": {},
     "output_type": "execute_result"
    }
   ],
   "source": [
    "queries = [w for w in nlp.vocab if w.is_lower and w.prob >= -20]\n",
    "def most_similar(word, count=10):\n",
    "    by_similarity = sorted(queries, key=lambda w: word.similarity(w), reverse=True)\n",
    "    return [w.orth_ for w in by_similarity[:count]]\n",
    "\n",
    "most_similar(nlp('throne'))"
   ]
  },
  {
   "cell_type": "code",
   "execution_count": 49,
   "id": "67e8515e",
   "metadata": {},
   "outputs": [
    {
     "name": "stderr",
     "output_type": "stream",
     "text": [
      "C:\\Users\\Zeus\\AppData\\Local\\Temp\\ipykernel_7980\\3224895206.py:3: UserWarning: [W008] Evaluating Doc.similarity based on empty vectors.\n",
      "  by_similarity = sorted(queries, key=lambda w: word.similarity(w), reverse=True)\n"
     ]
    },
    {
     "data": {
      "text/plain": [
       "['game',\n",
       " 'bout',\n",
       " 'it',\n",
       " 'machine',\n",
       " 'coming',\n",
       " 'learning',\n",
       " 'vs',\n",
       " 'this',\n",
       " 'when',\n",
       " 'that']"
      ]
     },
     "execution_count": 49,
     "metadata": {},
     "output_type": "execute_result"
    }
   ],
   "source": [
    "most_similar(nlp('game'))"
   ]
  },
  {
   "cell_type": "code",
   "execution_count": 50,
   "id": "bffd1400",
   "metadata": {},
   "outputs": [
    {
     "name": "stderr",
     "output_type": "stream",
     "text": [
      "C:\\Users\\Zeus\\AppData\\Local\\Temp\\ipykernel_7980\\3224895206.py:3: UserWarning: [W008] Evaluating Doc.similarity based on empty vectors.\n",
      "  by_similarity = sorted(queries, key=lambda w: word.similarity(w), reverse=True)\n"
     ]
    },
    {
     "data": {
      "text/plain": [
       "['learning',\n",
       " 'machine',\n",
       " 'that',\n",
       " 'and',\n",
       " \"there's\",\n",
       " 'space',\n",
       " 'this',\n",
       " 'these',\n",
       " 'need',\n",
       " 'should']"
      ]
     },
     "execution_count": 50,
     "metadata": {},
     "output_type": "execute_result"
    }
   ],
   "source": [
    "most_similar(nlp('machine learning'))"
   ]
  },
  {
   "cell_type": "code",
   "execution_count": null,
   "id": "165f3b85",
   "metadata": {},
   "outputs": [],
   "source": []
  }
 ],
 "metadata": {
  "kernelspec": {
   "display_name": "Python 3 (ipykernel)",
   "language": "python",
   "name": "python3"
  },
  "language_info": {
   "codemirror_mode": {
    "name": "ipython",
    "version": 3
   },
   "file_extension": ".py",
   "mimetype": "text/x-python",
   "name": "python",
   "nbconvert_exporter": "python",
   "pygments_lexer": "ipython3",
   "version": "3.11.5"
  }
 },
 "nbformat": 4,
 "nbformat_minor": 5
}
